{
  "nbformat": 4,
  "nbformat_minor": 0,
  "metadata": {
    "colab": {
      "provenance": []
    },
    "kernelspec": {
      "name": "python3",
      "display_name": "Python 3"
    },
    "language_info": {
      "name": "python"
    }
  },
  "cells": [
    {
      "cell_type": "code",
      "execution_count": 42,
      "metadata": {
        "colab": {
          "base_uri": "https://localhost:8080/"
        },
        "id": "BNsXAaX8hvsz",
        "outputId": "a463a897-0b08-4850-ea68-4870c09a24af"
      },
      "outputs": [
        {
          "output_type": "stream",
          "name": "stdout",
          "text": [
            "Model accuracy score: 0.3333\n"
          ]
        }
      ],
      "source": [
        "from sklearn.cluster import KMeans\n",
        "import pandas as pd\n",
        "from matplotlib import pyplot as plot\n",
        "from sklearn.naive_bayes import GaussianNB\n",
        "from google.colab import drive\n",
        "from sklearn.preprocessing import RobustScaler\n",
        "from sklearn.model_selection import train_test_split\n",
        "from sklearn.preprocessing import LabelEncoder # for one-d array\n",
        "from sklearn.preprocessing import OneHotEncoder # for multiple columns\n",
        "from sklearn.metrics import accuracy_score\n",
        "\n",
        "#drive.mount('/content/drive')\n",
        "path = '/content/drive/MyDrive/abc/NB_Dataset.csv'\n",
        "df = pd.read_csv(path)\n",
        "df\n",
        "\n",
        "\n",
        "X= df.iloc[0:7,0:2].values\n",
        "Y= df.iloc[0:7,2].values\n",
        "#Follow line apply one-hot on X data\n",
        "onehotencoder1 = OneHotEncoder()\n",
        "X = onehotencoder1.fit_transform(X).toarray()\n",
        "\n",
        "#Follow line apply one-hot on Y data\n",
        "le = LabelEncoder()\n",
        "Y = le.fit_transform(Y)\n",
        "Y = Y.reshape(-1,1)\n",
        "\n",
        "X_train,X_test,Y_train,Y_test = train_test_split(X,Y,test_size=0.3)\n",
        "\n",
        "gnb = GaussianNB()\n",
        "\n",
        "# fit the model\n",
        "gnb.fit(X_train, Y_train.ravel())\n",
        "\n",
        "\n",
        "y_pred = gnb.predict(X_test)\n",
        "\n",
        "print('Model accuracy score: {0:0.4f}'. format(accuracy_score(Y_test, y_pred)))\n",
        "\n"
      ]
    }
  ]
}